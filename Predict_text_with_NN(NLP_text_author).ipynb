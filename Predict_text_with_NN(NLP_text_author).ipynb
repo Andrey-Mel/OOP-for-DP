{
  "nbformat": 4,
  "nbformat_minor": 0,
  "metadata": {
    "colab": {
      "name": "Predict_text_with_NN(NLP text author)",
      "provenance": [],
      "toc_visible": true,
      "authorship_tag": "ABX9TyOsNzn+3BA0kkXD3/cJP+ad",
      "include_colab_link": true
    },
    "kernelspec": {
      "name": "python3",
      "display_name": "Python 3"
    },
    "accelerator": "GPU"
  },
  "cells": [
    {
      "cell_type": "markdown",
      "metadata": {
        "id": "view-in-github",
        "colab_type": "text"
      },
      "source": [
        "<a href=\"https://colab.research.google.com/github/Andrey-Mel/works_with_text_NLP/blob/main/Predict_text_with_NN(NLP_text_author).ipynb\" target=\"_parent\"><img src=\"https://colab.research.google.com/assets/colab-badge.svg\" alt=\"Open In Colab\"/></a>"
      ]
    },
    {
      "cell_type": "code",
      "metadata": {
        "id": "75eZ_SJcyp5Q"
      },
      "source": [
        "#Импорт библиотек для работы ноутбука\n",
        "\n",
        "import numpy as np\n",
        "import pandas as pd\n",
        "import matplotlib.pyplot as plt #для вывода графиков\n",
        "import os #для работы с файлами\n",
        "import time\n",
        "%matplotlib inline\n",
        "\n",
        "from tensorflow.keras import utils # для работы с категориальными данными\n",
        "from tensorflow.keras.models import Sequential #полносвязная модель\n",
        "from tensorflow.keras.layers import Dense, Dropout, SpatialDropout1D,BatchNormalization, Embedding, Flatten, Activation #Слои сети\n",
        "from tensorflow.keras.preprocessing.text import Tokenizer #Метод для работы с текстом и преобразования их в последовательности\n",
        "from tensorflow.keras.preprocessing.sequence import pad_sequences #Метод для работы с последовательностями\n",
        "from tensorflow.keras.optimizers import Adam, Adadelta, RMSprop\n",
        "\n",
        "from sklearn.preprocessing import LabelEncoder #Метод для кодирования тестовых лейблов\n",
        "from sklearn.model_selection import train_test_split #для разделения выборки на тестовую и обучающую\n",
        "\n",
        "from google.colab import drive #для работы с google drive\n",
        "from google.colab import files #для работы с файлами"
      ],
      "execution_count": null,
      "outputs": []
    },
    {
      "cell_type": "code",
      "metadata": {
        "id": "B1teQuZL5Dmp",
        "colab": {
          "base_uri": "https://localhost:8080/",
          "height": 34
        },
        "outputId": "d304eea1-9c3f-4a2b-86c8-99cf6cf41efe"
      },
      "source": [
        "drive.mount('/content/drive')"
      ],
      "execution_count": null,
      "outputs": [
        {
          "output_type": "stream",
          "text": [
            "Mounted at /content/drive\n"
          ],
          "name": "stdout"
        }
      ]
    },
    {
      "cell_type": "code",
      "metadata": {
        "id": "Um4y_7_x5WEN",
        "colab": {
          "base_uri": "https://localhost:8080/",
          "height": 34
        },
        "outputId": "e1ca596c-444c-41a3-ac25-d430ab338e3f"
      },
      "source": [
        "!rm -R /content/texts #Проверяем папку texts, на наличие - если есть удалить"
      ],
      "execution_count": null,
      "outputs": [
        {
          "output_type": "stream",
          "text": [
            "rm: cannot remove '/content/texts': No such file or directory\n"
          ],
          "name": "stdout"
        }
      ]
    },
    {
      "cell_type": "code",
      "metadata": {
        "id": "AdSBPdr85ueI"
      },
      "source": [
        "#Указываем путь к базе писателей и создаем папку texts\n",
        "!unzip -q '/content/drive/My Drive/Тексты писателей.zip' -d /content/texts"
      ],
      "execution_count": null,
      "outputs": []
    },
    {
      "cell_type": "code",
      "metadata": {
        "id": "n3R0GKqE7D9S"
      },
      "source": [
        "#Создаем функцию для чтения файла на вход отправляем путь к файлу\n",
        "def readText(fileName):\n",
        "  f = open(fileName, 'r')#Задаем открытие файла в режиме чтения\n",
        "  text = f.read()#читаем текст из файла и записываем в переменную text\n",
        "  text = text.replace('\\n',' ')#переносы строки переводим в пробелы\n",
        "  return text"
      ],
      "execution_count": null,
      "outputs": []
    },
    {
      "cell_type": "code",
      "metadata": {
        "id": "F2gLlSfD9DH7",
        "colab": {
          "base_uri": "https://localhost:8080/",
          "height": 34
        },
        "outputId": "c503b0cd-56cf-471b-92a2-61b1d5bd6753"
      },
      "source": [
        "className = ['О. Генри','Стругацкие','Булгаков','Саймак','Фрай','Брэдберри']#объявляем интересующие нас классы\n",
        "nClasses = len(className)#считаем количество классов\n",
        "print(nClasses)"
      ],
      "execution_count": null,
      "outputs": [
        {
          "output_type": "stream",
          "text": [
            "6\n"
          ],
          "name": "stdout"
        }
      ]
    },
    {
      "cell_type": "code",
      "metadata": {
        "id": "ZaDbTtnD-K3_",
        "colab": {
          "base_uri": "https://localhost:8080/",
          "height": 323
        },
        "outputId": "3aab195c-3f8e-458d-a2a3-fdb8b02aa512"
      },
      "source": [
        "#Загружаем обучающие тексты\n",
        "\n",
        "trainText = []\n",
        "testText = []\n",
        "\n",
        "for i in className:\n",
        "  for j in os.listdir('texts/Тексты писателей/'):\n",
        "    if i in j: #проверяем содержит ли файл j в названии класса i\n",
        "      \n",
        "      if 'Обучающая' in j: #Если в имени найденного класса есть строка \"Обучающая\"\n",
        "        trainText.append(readText('texts/Тексты писателей/' + j))\n",
        "        print(j, 'добавлен в обучающую выборку')\n",
        "      if 'Тестовая' in j:\n",
        "        testText.append(readText('texts/Тексты писателей/' + j))\n",
        "        print(j,'добавлен в тестовую выборку')\n",
        "  print()"
      ],
      "execution_count": null,
      "outputs": [
        {
          "output_type": "stream",
          "text": [
            "(О. Генри) Обучающая_50 вместе.txt добавлен в обучающую выборку\n",
            "(О. Генри) Тестовая_20 вместе.txt добавлен в тестовую выборку\n",
            "\n",
            "(Стругацкие) Тестовая_2 вместе.txt добавлен в тестовую выборку\n",
            "(Стругацкие) Обучающая_5 вместе.txt добавлен в обучающую выборку\n",
            "\n",
            "(Булгаков) Тестовая_2 вместе.txt добавлен в тестовую выборку\n",
            "(Булгаков) Обучающая_5 вместе.txt добавлен в обучающую выборку\n",
            "\n",
            "(Клиффорд_Саймак) Тестовая_2 вместе.txt добавлен в тестовую выборку\n",
            "(Клиффорд_Саймак) Обучающая_5 вместе.txt добавлен в обучающую выборку\n",
            "\n",
            "(Макс Фрай) Тестовая_2 вместе.txt добавлен в тестовую выборку\n",
            "(Макс Фрай) Обучающая_5 вместе.txt добавлен в обучающую выборку\n",
            "\n",
            "(Рэй Брэдберри) Обучающая_22 вместе.txt добавлен в обучающую выборку\n",
            "(Рэй Брэдберри) Тестовая_8 вместе.txt добавлен в тестовую выборку\n",
            "\n"
          ],
          "name": "stdout"
        }
      ]
    },
    {
      "cell_type": "code",
      "metadata": {
        "id": "TMzSzU-3aLPM",
        "colab": {
          "base_uri": "https://localhost:8080/",
          "height": 51
        },
        "outputId": "f9a0df2c-c7c1-46d8-be05-073313d27b24"
      },
      "source": [
        "print(len(trainText))\n",
        "print(len(trainText[3]))"
      ],
      "execution_count": null,
      "outputs": [
        {
          "output_type": "stream",
          "text": [
            "6\n",
            "1609507\n"
          ],
          "name": "stdout"
        }
      ]
    },
    {
      "cell_type": "markdown",
      "metadata": {
        "id": "ND61EaeQanvM"
      },
      "source": [
        "**Обработка данных.Преобразования текстовых данных в числовые и векторные для обучения нейросети**"
      ]
    },
    {
      "cell_type": "code",
      "metadata": {
        "id": "AMQdZURDbA7Q",
        "colab": {
          "base_uri": "https://localhost:8080/",
          "height": 34
        },
        "outputId": "bec5f8de-b56b-4c4a-fff2-641d960daca0"
      },
      "source": [
        "curr_time = time.time()\n",
        "maxWordsCount = 20000 #определяем максимальное количество слов\\индексов, учитываемое при обучении\n",
        "\n",
        "tokenizer = Tokenizer(num_words=maxWordsCount, lower=True, split=' ',oov_token='unknown', char_level=False)\n",
        "tokenizer.fit_on_texts(trainText) #Вскармливаем наши тексты, т.е. даем в обработку методу, который соберет  словарь частотности\n",
        "items = list(tokenizer.word_index.items()) #Вытаскиваем индексы слов для просмотра\n",
        "print('Время обработки: ', round(time.time() - curr_time, 2), 'c', sep='')"
      ],
      "execution_count": null,
      "outputs": [
        {
          "output_type": "stream",
          "text": [
            "Время обработки: 2.2c\n"
          ],
          "name": "stdout"
        }
      ]
    },
    {
      "cell_type": "code",
      "metadata": {
        "id": "GhIj2U7Ua_0w",
        "colab": {
          "base_uri": "https://localhost:8080/",
          "height": 71
        },
        "outputId": "8bf975d9-583e-4747-9fae-eae286ea64f3"
      },
      "source": [
        "print(items[:50]) #посмотрим 50 самых встречающихся слов\n",
        "print(\"Размер словаря\", len(items))"
      ],
      "execution_count": null,
      "outputs": [
        {
          "output_type": "stream",
          "text": [
            "[('unknown', 1), ('и', 2), ('–', 3), ('в', 4), ('не', 5), ('я', 6), ('что', 7), ('на', 8), ('—', 9), ('с', 10), ('он', 11), ('а', 12), ('как', 13), ('то', 14), ('это', 15), ('но', 16), ('все', 17), ('у', 18), ('по', 19), ('его', 20), ('к', 21), ('так', 22), ('мне', 23), ('из', 24), ('за', 25), ('меня', 26), ('ты', 27), ('же', 28), ('сказал', 29), ('бы', 30), ('было', 31), ('\\xa0–', 32), ('вы', 33), ('от', 34), ('они', 35), ('мы', 36), ('только', 37), ('еще', 38), ('\\xa0—', 39), ('она', 40), ('да', 41), ('о', 42), ('когда', 43), ('уже', 44), ('был', 45), ('вот', 46), ('если', 47), ('их', 48), ('ни', 49), ('чтобы', 50)]\n",
            "Размер словаря 146938\n"
          ],
          "name": "stdout"
        }
      ]
    },
    {
      "cell_type": "code",
      "metadata": {
        "id": "DvlFKF2kjAoh",
        "colab": {
          "base_uri": "https://localhost:8080/",
          "height": 85
        },
        "outputId": "5df73631-ea51-4fe4-bf33-5c213cb0f6de"
      },
      "source": [
        "#Преобразовываем текст в последовательность индексов согласно частотному словарю\n",
        "trainWordIndexes = tokenizer.texts_to_sequences(trainText) #обучающую выборку в индексы\n",
        "testWordIndexes = tokenizer.texts_to_sequences(testText) #тестовую выборку в индексы\n",
        "\n",
        "print('Взглянем на фрагмент обучающего текста: ')\n",
        "print('В виде оригинального текста:             ', trainText[1][:87])\n",
        "print('Он же в последовательности индексов:     ', trainWordIndexes[1][:20], '\\n')"
      ],
      "execution_count": null,
      "outputs": [
        {
          "output_type": "stream",
          "text": [
            "Взглянем на фрагмент обучающего текста: \n",
            "В виде оригинального текста:              Парень из преисподней     1     Ну и деревня! Сроду я таких деревень не видел и не знал\n",
            "Он же в последовательности индексов:      [472, 24, 1, 1539, 55, 2, 12808, 7786, 6, 424, 1, 5, 257, 2, 5, 250, 57, 7, 244, 10586] \n",
            "\n"
          ],
          "name": "stdout"
        }
      ]
    },
    {
      "cell_type": "code",
      "metadata": {
        "id": "WChos6XUCfAG",
        "colab": {
          "base_uri": "https://localhost:8080/",
          "height": 34
        },
        "outputId": "c1e913be-a7a0-44eb-f705-8a8ef596c9c7"
      },
      "source": [
        "print(len(trainWordIndexes))"
      ],
      "execution_count": null,
      "outputs": [
        {
          "output_type": "stream",
          "text": [
            "6\n"
          ],
          "name": "stdout"
        }
      ]
    },
    {
      "cell_type": "markdown",
      "metadata": {
        "id": "b5jnE95Q26iB"
      },
      "source": [
        "Создание обучающей и проверочной выборки"
      ]
    },
    {
      "cell_type": "code",
      "metadata": {
        "id": "9BOqWDPx23_X"
      },
      "source": [
        "#Формирование обучающей выборки по листу индексов слов\n",
        "\n",
        "def getSetFromIndexes(wordIndexes, xLen, step):\n",
        "  xSample = [] #объявляем переменную для векторов\n",
        "  wordsLen = len(wordIndexes) #считаем количество слов\n",
        "  index = 0 #задаем начальный индекс\n",
        "\n",
        "  while (index + xLen <= wordsLen): #Идем по всей длине вектора индексов\n",
        "    xSample.append(wordIndexes[index:index+xLen]) #откусываем векторы длины xLen\n",
        "    index += step #Смещаемся вперед на step\n",
        "\n",
        "  return xSample"
      ],
      "execution_count": null,
      "outputs": []
    },
    {
      "cell_type": "code",
      "metadata": {
        "id": "rHR0pYCo5LR7"
      },
      "source": [
        "#Формирование обучающей и проверочной выборки\n",
        "#Из двух листов индексов от двух классов\n",
        "def createSetsMultiClasses(wordIndexes, xLen, step):#функция принимает последовательность индексов, размер окна, шаг от окна до окна\n",
        "  #Для каждого из 6 классов\n",
        "  #Создаем обучающую/проверочную выборку индексов\n",
        "  nClasses = len(wordIndexes)#Задаем количество классов выборки\n",
        "  classesXSamples = [] #здесь будет список размером - количество классов * количество окон в тексте * длину окна (пример 6 по 1341 * 1000)\n",
        "  for wI in wordIndexes:#для каждого текста выборки из последовательности индексов\n",
        "    classesXSamples.append(getSetFromIndexes(wI, xLen, step)) #Добавляем в список очередной текст индексов, разбитый на количество окон * длину окна\n",
        "\n",
        "  #Формируем один общий xSample\n",
        "  xSamples = [] #Здесь будет список размером \"суммарное кол-во окон во всех текстах*длину окна (например 15777*1000)\"\n",
        "  ySamples = [] #Здесь будет список размером \"суммарное кол-во окон во всех текстах*вектор длиной 6\"\n",
        "\n",
        "  for t in range(nClasses): #В диапазоне кол-ва классов (6)\n",
        "    xT = classesXSamples[t] #Берем очередной текст вида \"кол-во окон в тексте * длину окна (например 1344*1000)\"\n",
        "    for i in range(len(xT)): #икаждое его окно\n",
        "      xSamples.append(xT[i]) #Добавляем в общий список выборки\n",
        "      ySamples.append(utils.to_categorical(t, nClasses))#Добавляем соответствующий вектор класса\n",
        "\n",
        "  xSamples = np.array(xSamples) #Переводим в массив numpy для подачи в нейронку\n",
        "  ySamples = np.array(ySamples) #переводим в массив numpy для подачи в нейронку\n",
        "\n",
        "  return (xSamples, ySamples) #Функция возвращает выборку и соответствующие векторы классов"
      ],
      "execution_count": null,
      "outputs": []
    },
    {
      "cell_type": "markdown",
      "metadata": {
        "id": "sWnUCjYiBbhp"
      },
      "source": [
        "Подготовка данных"
      ]
    },
    {
      "cell_type": "code",
      "metadata": {
        "id": "FfaD6ZvxBiZy"
      },
      "source": [
        "#Задаем параметры\n",
        "xLen = 1000 #Длина отрезка текста(окно), по которой анализируем, в словах\n",
        "step = 100 #Шаг разбиения исходного текста на обучающие векторы"
      ],
      "execution_count": null,
      "outputs": []
    },
    {
      "cell_type": "code",
      "metadata": {
        "id": "mm6a6p_BDgT-",
        "colab": {
          "base_uri": "https://localhost:8080/",
          "height": 102
        },
        "outputId": "14c301d6-02b5-4d1f-d517-97cc56221020"
      },
      "source": [
        "curr_time = time.time()\n",
        "#Формируем обучающую и тестовую выборки\n",
        "xTrain, yTrain = createSetsMultiClasses(trainWordIndexes, xLen, step) #извлекаем обучающую выборку\n",
        "xTest, yTest = createSetsMultiClasses(testWordIndexes, xLen, step) #извлекаем тестовую выборку\n",
        "print(xTrain.shape)\n",
        "print(yTrain.shape)\n",
        "print(xTest.shape)\n",
        "print(yTest.shape)\n",
        "#Получили обучающий/тестовый набор достаточный для запуска Embedding, но для Bag of Words нужно xTrain и yTrain представить ввиде векторов 0 и 1\n",
        "print('Время обработки: ', round(time.time() - curr_time, 2), 'c' , sep='')"
      ],
      "execution_count": null,
      "outputs": [
        {
          "output_type": "stream",
          "text": [
            "(18417, 1000)\n",
            "(18417, 6)\n",
            "(6968, 1000)\n",
            "(6968, 6)\n",
            "Время обработки: 2.24c\n"
          ],
          "name": "stdout"
        }
      ]
    },
    {
      "cell_type": "code",
      "metadata": {
        "id": "nj3QfXG6GwMU",
        "colab": {
          "base_uri": "https://localhost:8080/",
          "height": 136
        },
        "outputId": "51c1a3a4-7f75-4e4e-be1e-10ac4b4448dd"
      },
      "source": [
        "curr_time = time.time()\n",
        "#Получили обучающий/тестовый набор достаточный для запуска Embedding, но для Bag of Words нужно xTrain и yTrain представить ввиде векторов 0 и 1\n",
        "#Преобразовываем полученные данные выборки из последователльности индексов в матрицы 0 и 1 по принципу Bag of Words\n",
        "xTrain01 = tokenizer.sequences_to_matrix(xTrain.tolist())#Подаем xTrain ввиде списка, чтобы метод успешно сработал\n",
        "xTest01 = tokenizer.sequences_to_matrix(xTest.tolist())\n",
        "\n",
        "print(xTrain01.shape)\n",
        "print(xTrain01[0][0:100])#фрагмент набора слов ввиде Bag of Words\n",
        "print('Время обработки: ',round(time.time() - curr_time, 2), ' c', sep='')"
      ],
      "execution_count": null,
      "outputs": [
        {
          "output_type": "stream",
          "text": [
            "(18417, 20000)\n",
            "[0. 1. 1. 0. 1. 1. 0. 1. 1. 1. 1. 1. 1. 1. 1. 1. 1. 1. 1. 1. 1. 1. 1. 0.\n",
            " 1. 1. 0. 0. 1. 0. 1. 1. 0. 1. 1. 1. 0. 0. 1. 1. 1. 0. 1. 1. 1. 1. 1. 1.\n",
            " 1. 1. 0. 1. 0. 1. 1. 0. 1. 1. 0. 0. 0. 0. 1. 0. 0. 0. 1. 0. 1. 0. 1. 0.\n",
            " 1. 0. 0. 0. 1. 1. 0. 1. 1. 0. 0. 0. 1. 0. 0. 0. 1. 0. 1. 1. 1. 0. 0. 1.\n",
            " 0. 0. 1. 1.]\n",
            "Время обработки: 10.93 c\n"
          ],
          "name": "stdout"
        }
      ]
    },
    {
      "cell_type": "markdown",
      "metadata": {
        "id": "O2wqCvfiKYtC"
      },
      "source": [
        "Создаем нейросеть\n"
      ]
    },
    {
      "cell_type": "code",
      "metadata": {
        "id": "BGyHEbNXKXY6",
        "colab": {
          "base_uri": "https://localhost:8080/",
          "height": 619
        },
        "outputId": "7e371b88-03df-47a4-a4c5-161890a96166"
      },
      "source": [
        "#Создаем полносвязную сеть\n",
        "model01 = Sequential()\n",
        "#Первый слой полносвязный\n",
        "model01.add(Dense(200, input_dim=maxWordsCount, activation='relu'))\n",
        "#Слой регуляции Dropout\n",
        "model01.add(Dropout(0.25))\n",
        "\n",
        "#Слой пакетной нормализации\n",
        "model01.add(BatchNormalization())\n",
        "#Выходной полносвязный слой\n",
        "model01.add(Dense(6, activation='softmax'))\n",
        "\n",
        "model01.compile(optimizer='adam',\n",
        "                loss='categorical_crossentropy',\n",
        "                metrics=['accuracy'])\n",
        "\n",
        "#обучаем сеть на выборке, сформированный по bag of words - xTrain01\n",
        "history = model01.fit(xTrain01,\n",
        "                      yTrain,\n",
        "                      epochs = 10,\n",
        "                      batch_size=128,\n",
        "                      validation_data=(xTest01, yTest))\n",
        "\n",
        "plt.plot(history.history['accuracy'], label='Доля верных ответов на обучающем наборе')\n",
        "plt.plot(history.history['val_accuracy'], label='Доля верных отетов на проверочном наборе')\n",
        "plt.xlabel('Эпоха обучения')\n",
        "plt.ylabel('Доля верных ответов')\n",
        "plt.show()"
      ],
      "execution_count": null,
      "outputs": [
        {
          "output_type": "stream",
          "text": [
            "Epoch 1/10\n",
            "138/138 [==============================] - 2s 14ms/step - loss: 0.0508 - accuracy: 0.9841 - val_loss: 0.3913 - val_accuracy: 0.8853\n",
            "Epoch 2/10\n",
            "138/138 [==============================] - 2s 11ms/step - loss: 4.0227e-04 - accuracy: 1.0000 - val_loss: 0.3272 - val_accuracy: 0.8999\n",
            "Epoch 3/10\n",
            "138/138 [==============================] - 2s 11ms/step - loss: 1.8730e-04 - accuracy: 1.0000 - val_loss: 0.3218 - val_accuracy: 0.8995\n",
            "Epoch 4/10\n",
            "138/138 [==============================] - 2s 11ms/step - loss: 1.0449e-04 - accuracy: 1.0000 - val_loss: 0.3170 - val_accuracy: 0.8998\n",
            "Epoch 5/10\n",
            "138/138 [==============================] - 1s 11ms/step - loss: 8.2915e-05 - accuracy: 1.0000 - val_loss: 0.3163 - val_accuracy: 0.8999\n",
            "Epoch 6/10\n",
            "138/138 [==============================] - 1s 11ms/step - loss: 6.0884e-05 - accuracy: 1.0000 - val_loss: 0.3214 - val_accuracy: 0.8975\n",
            "Epoch 7/10\n",
            "138/138 [==============================] - 2s 11ms/step - loss: 4.8212e-05 - accuracy: 1.0000 - val_loss: 0.3165 - val_accuracy: 0.8980\n",
            "Epoch 8/10\n",
            "138/138 [==============================] - 2s 11ms/step - loss: 3.8160e-05 - accuracy: 1.0000 - val_loss: 0.3144 - val_accuracy: 0.8987\n",
            "Epoch 9/10\n",
            "138/138 [==============================] - 2s 11ms/step - loss: 3.3058e-05 - accuracy: 1.0000 - val_loss: 0.3126 - val_accuracy: 0.9001\n",
            "Epoch 10/10\n",
            "138/138 [==============================] - 2s 11ms/step - loss: 2.8323e-05 - accuracy: 1.0000 - val_loss: 0.3144 - val_accuracy: 0.9001\n"
          ],
          "name": "stdout"
        },
        {
          "output_type": "display_data",
          "data": {
            "image/png": "[encoded data removed]",
            "text/plain": [
              "<Figure size 432x288 with 1 Axes>"
            ]
          },
          "metadata": {
            "tags": [],
            "needs_background": "light"
          }
        }
      ]
    },
    {
      "cell_type": "markdown",
      "metadata": {
        "id": "aI9jd2d2bIwl"
      },
      "source": [
        "Embedding + Dense"
      ]
    },
    {
      "cell_type": "code",
      "metadata": {
        "id": "33qkRIsXbR4n"
      },
      "source": [
        "#Создаём сеть с Embedding слоем\n",
        "modelE = Sequential()\n",
        "modelE.add(Embedding(maxWordsCount, 200, input_length=xLen))\n",
        "modelE.add(SpatialDropout1D(0.2))\n",
        "modelE.add(Flatten())\n",
        "modelE.add(BatchNormalization())\n",
        "modelE.add(Dense(200, activation=\"relu\"))\n",
        "modelE.add(Dropout(0.2))\n",
        "modelE.add(BatchNormalization())\n",
        "modelE.add(Dense(6, activation='sigmoid'))\n",
        "\n",
        "modelE.compile(optimizer='adam', \n",
        "              loss='categorical_crossentropy', \n",
        "              metrics=['accuracy'])"
      ],
      "execution_count": null,
      "outputs": []
    },
    {
      "cell_type": "code",
      "metadata": {
        "id": "GDZViO61bWA2",
        "colab": {
          "base_uri": "https://localhost:8080/",
          "height": 425
        },
        "outputId": "97dea3a9-d20e-4cb6-dc85-77da5eec7447"
      },
      "source": [
        "modelE.summary()"
      ],
      "execution_count": null,
      "outputs": [
        {
          "output_type": "stream",
          "text": [
            "Model: \"sequential_3\"\n",
            "_________________________________________________________________\n",
            "Layer (type)                 Output Shape              Param #   \n",
            "=================================================================\n",
            "embedding_2 (Embedding)      (None, 1000, 200)         10000000  \n",
            "_________________________________________________________________\n",
            "spatial_dropout1d_2 (Spatial (None, 1000, 200)         0         \n",
            "_________________________________________________________________\n",
            "flatten_2 (Flatten)          (None, 200000)            0         \n",
            "_________________________________________________________________\n",
            "batch_normalization_4 (Batch (None, 200000)            800000    \n",
            "_________________________________________________________________\n",
            "dense_4 (Dense)              (None, 200)               40000200  \n",
            "_________________________________________________________________\n",
            "dropout_2 (Dropout)          (None, 200)               0         \n",
            "_________________________________________________________________\n",
            "batch_normalization_5 (Batch (None, 200)               800       \n",
            "_________________________________________________________________\n",
            "dense_5 (Dense)              (None, 6)                 1206      \n",
            "=================================================================\n",
            "Total params: 50,802,206\n",
            "Trainable params: 50,401,806\n",
            "Non-trainable params: 400,400\n",
            "_________________________________________________________________\n"
          ],
          "name": "stdout"
        }
      ]
    },
    {
      "cell_type": "code",
      "metadata": {
        "id": "F06CEG6qbdYd",
        "colab": {
          "base_uri": "https://localhost:8080/",
          "height": 619
        },
        "outputId": "0ce01b13-c529-4aa5-bbc5-2d7bbbf7447c"
      },
      "source": [
        "#Обучаем сеть на xTrain\n",
        "history = modelE.fit(xTrain, \n",
        "                    yTrain, \n",
        "                    epochs=10,\n",
        "                    batch_size=128,\n",
        "                    validation_data=(xTest, yTest))\n",
        "\n",
        "\n",
        "plt.plot(history.history['accuracy'], \n",
        "         label='Доля верных ответов на обучающем наборе')\n",
        "plt.plot(history.history['val_accuracy'], \n",
        "         label='Доля верных ответов на проверочном наборе')\n",
        "plt.xlabel('Эпоха обучения')\n",
        "plt.ylabel('Доля верных ответов')\n",
        "plt.legend()\n",
        "plt.show()"
      ],
      "execution_count": null,
      "outputs": [
        {
          "output_type": "stream",
          "text": [
            "Epoch 1/10\n",
            "138/138 [==============================] - 29s 212ms/step - loss: 0.9154 - accuracy: 0.7617 - val_loss: 3.4651 - val_accuracy: 0.2929\n",
            "Epoch 2/10\n",
            "138/138 [==============================] - 29s 208ms/step - loss: 0.2626 - accuracy: 0.9570 - val_loss: 3.2495 - val_accuracy: 0.2929\n",
            "Epoch 3/10\n",
            "138/138 [==============================] - 29s 207ms/step - loss: 0.0629 - accuracy: 0.9803 - val_loss: 2.3795 - val_accuracy: 0.2973\n",
            "Epoch 4/10\n",
            "138/138 [==============================] - 28s 205ms/step - loss: 0.0272 - accuracy: 0.9883 - val_loss: 1.3993 - val_accuracy: 0.4650\n",
            "Epoch 5/10\n",
            "138/138 [==============================] - 28s 206ms/step - loss: 0.0114 - accuracy: 0.9965 - val_loss: 1.2502 - val_accuracy: 0.5543\n",
            "Epoch 6/10\n",
            "138/138 [==============================] - 28s 205ms/step - loss: 0.0034 - accuracy: 0.9998 - val_loss: 1.0696 - val_accuracy: 0.6206\n",
            "Epoch 7/10\n",
            "138/138 [==============================] - 29s 207ms/step - loss: 0.0018 - accuracy: 1.0000 - val_loss: 0.9993 - val_accuracy: 0.6446\n",
            "Epoch 8/10\n",
            "138/138 [==============================] - 28s 205ms/step - loss: 9.4898e-04 - accuracy: 1.0000 - val_loss: 0.9891 - val_accuracy: 0.6608\n",
            "Epoch 9/10\n",
            "138/138 [==============================] - 28s 204ms/step - loss: 6.4751e-04 - accuracy: 1.0000 - val_loss: 0.9675 - val_accuracy: 0.6730\n",
            "Epoch 10/10\n",
            "138/138 [==============================] - 28s 205ms/step - loss: 4.8872e-04 - accuracy: 1.0000 - val_loss: 0.9833 - val_accuracy: 0.6742\n"
          ],
          "name": "stdout"
        },
        {
          "output_type": "display_data",
          "data": {
            "image/png": "[encoded data removed]",
            "text/plain": [
              "<Figure size 432x288 with 1 Axes>"
            ]
          },
          "metadata": {
            "tags": [],
            "needs_background": "light"
          }
        }
      ]
    },
    {
      "cell_type": "code",
      "metadata": {
        "id": "TnqbkUrtE-3T"
      },
      "source": [
        "\n",
        "#Создаем полносвязную сеть\n",
        "model02 = Sequential()\n",
        "#Первый слой полносвязный\n",
        "model02.add(Dense(200, input_dim=maxWordsCount, activation='sigmoid'))\n",
        "#Слой регуляции Dropout\n",
        "model02.add(Dropout(0.4))\n",
        "model02.add(BatchNormalization())\n",
        "model02.add(Dense(30, input_dim=maxWordsCount, activation='linear'))\n",
        "#Слой пакетной нормализации\n",
        "model02.add(BatchNormalization())\n",
        "#model02.add(Dropout(0.3))\n",
        "#Выходной полносвязный слой\n",
        "model02.add(Dense(6, activation='softmax'))\n",
        "\n",
        "model02.compile(optimizer='adam',\n",
        "                loss='categorical_crossentropy',\n",
        "                metrics=['accuracy'])\n"
      ],
      "execution_count": null,
      "outputs": []
    },
    {
      "cell_type": "code",
      "metadata": {
        "id": "m5aFEsK3FLIK",
        "colab": {
          "base_uri": "https://localhost:8080/",
          "height": 1000
        },
        "outputId": "01d6158f-6b46-45fa-ce41-e7e75c57e14a"
      },
      "source": [
        "#обучаем сеть на выборке, сформированный по bag of words - xTrain01\n",
        "history = model02.fit(xTrain01,\n",
        "                      yTrain,\n",
        "                      epochs = 15,\n",
        "                      batch_size=380,\n",
        "                      validation_data=(xTest01, yTest))\n",
        "\n",
        "#Визуализируем результаты\n",
        "plt.plot(history.history['accuracy'], label='Доля верных ответов на обучающем наборе')\n",
        "plt.plot(history.history['val_accuracy'], label='Доля верных отетов на проверочном наборе')\n",
        "plt.xlabel('Эпоха обучения')\n",
        "plt.ylabel('Доля верных ответов')\n",
        "plt.show()\n",
        "\n",
        "plt.plot(history.history['loss'], label='Ошибка на обучающей выборке')\n",
        "plt.plot(history.history['val_loss'], label='Ошибка на проверочной выборке')\n",
        "plt.xlabel('Эпоха обучения')\n",
        "plt.ylabel('Ошибка')\n",
        "plt.legend()\n",
        "plt.show()"
      ],
      "execution_count": null,
      "outputs": [
        {
          "output_type": "stream",
          "text": [
            "Epoch 1/15\n",
            "49/49 [==============================] - 1s 30ms/step - loss: 0.2499 - accuracy: 0.9291 - val_loss: 0.8848 - val_accuracy: 0.8400\n",
            "Epoch 2/15\n",
            "49/49 [==============================] - 1s 23ms/step - loss: 0.0149 - accuracy: 1.0000 - val_loss: 0.7841 - val_accuracy: 0.9175\n",
            "Epoch 3/15\n",
            "49/49 [==============================] - 1s 22ms/step - loss: 0.0085 - accuracy: 1.0000 - val_loss: 0.6924 - val_accuracy: 0.9412\n",
            "Epoch 4/15\n",
            "49/49 [==============================] - 1s 23ms/step - loss: 0.0056 - accuracy: 1.0000 - val_loss: 0.6002 - val_accuracy: 0.9463\n",
            "Epoch 5/15\n",
            "49/49 [==============================] - 1s 22ms/step - loss: 0.0041 - accuracy: 1.0000 - val_loss: 0.5200 - val_accuracy: 0.9479\n",
            "Epoch 6/15\n",
            "49/49 [==============================] - 1s 22ms/step - loss: 0.0031 - accuracy: 1.0000 - val_loss: 0.4553 - val_accuracy: 0.9480\n",
            "Epoch 7/15\n",
            "49/49 [==============================] - 1s 22ms/step - loss: 0.0024 - accuracy: 1.0000 - val_loss: 0.4047 - val_accuracy: 0.9473\n",
            "Epoch 8/15\n",
            "49/49 [==============================] - 1s 22ms/step - loss: 0.0020 - accuracy: 1.0000 - val_loss: 0.3692 - val_accuracy: 0.9459\n",
            "Epoch 9/15\n",
            "49/49 [==============================] - 1s 22ms/step - loss: 0.0017 - accuracy: 1.0000 - val_loss: 0.3413 - val_accuracy: 0.9468\n",
            "Epoch 10/15\n",
            "49/49 [==============================] - 1s 22ms/step - loss: 0.0015 - accuracy: 1.0000 - val_loss: 0.3221 - val_accuracy: 0.9466\n",
            "Epoch 11/15\n",
            "49/49 [==============================] - 1s 22ms/step - loss: 0.0012 - accuracy: 1.0000 - val_loss: 0.3093 - val_accuracy: 0.9460\n",
            "Epoch 12/15\n",
            "49/49 [==============================] - 1s 22ms/step - loss: 0.0010 - accuracy: 1.0000 - val_loss: 0.3013 - val_accuracy: 0.9449\n",
            "Epoch 13/15\n",
            "49/49 [==============================] - 1s 23ms/step - loss: 9.2599e-04 - accuracy: 1.0000 - val_loss: 0.2951 - val_accuracy: 0.9437\n",
            "Epoch 14/15\n",
            "49/49 [==============================] - 1s 22ms/step - loss: 8.4965e-04 - accuracy: 1.0000 - val_loss: 0.2889 - val_accuracy: 0.9442\n",
            "Epoch 15/15\n",
            "49/49 [==============================] - 1s 22ms/step - loss: 7.3124e-04 - accuracy: 1.0000 - val_loss: 0.2842 - val_accuracy: 0.9439\n"
          ],
          "name": "stdout"
        },
        {
          "output_type": "display_data",
          "data": {
            "image/png": "[encoded data removed]",
            "text/plain": [
              "<Figure size 432x288 with 1 Axes>"
            ]
          },
          "metadata": {
            "tags": [],
            "needs_background": "light"
          }
        },
        {
          "output_type": "display_data",
          "data": {
            "image/png": "[encoded data removed]",
            "text/plain": [
              "<Figure size 432x288 with 1 Axes>"
            ]
          },
          "metadata": {
            "tags": [],
            "needs_background": "light"
          }
        }
      ]
    },
    {
      "cell_type": "code",
      "metadata": {
        "id": "L4LV2BUAFPPf"
      },
      "source": [
        "#Распознавание выборки\n",
        "\n",
        "def createTestMultiClasses(wordIndexes, xLen, step):\n",
        "  #Для каждого из 6 классов создаем тестовую выборку\n",
        "  nClasses = len(wordIndexes)\n",
        "  xTest6Classes01 = []\n",
        "  xTest6Classes = []\n",
        "\n",
        "  for wI in wordIndexes:\n",
        "    sample = (getSetFromIndexes(wI, xLen, step))\n",
        "    xTest6Classes.append(sample)\n",
        "    xTest6Classes01.append(tokenizer.sequences_to_matrix(sample))\n",
        "\n",
        "  xTest6Classes01 = np.array(xTest6Classes01)\n",
        "  xTest6Classes = np.array(xTest6Classes)\n",
        "\n",
        "  return xTest6Classes01, xTest6Classes\n",
        "\n",
        "#Распознаем тестовую выборку и выводим результаты\n",
        "def recognizeMultiClass(model, xTest, modelName):\n",
        "  print(\"НЕЙРОНКА: \", modelName)\n",
        "  print()\n",
        "  \n",
        "  totalSumRec = 0 # Сумма всех правильных ответов\n",
        "  \n",
        "  #Проходим по всем классам\n",
        "  for i in range(nClasses):\n",
        "    #Получаем результаты распознавания класса по блокам слов длины xLen\n",
        "    currPred = model.predict(xTest[i])\n",
        "    #Определяем номер распознанного класса для каждохо блока слов длины xLen\n",
        "    currOut = np.argmax(currPred, axis=1)\n",
        "\n",
        "    evVal = []\n",
        "    for j in range(nClasses):\n",
        "      evVal.append(len(currOut[currOut==j])/len(xTest[i]))\n",
        "\n",
        "    totalSumRec += len(currOut[currOut==i])\n",
        "    recognizedClass = np.argmax(evVal) #Определяем, какой класс в итоге за какой был распознан\n",
        "    \n",
        "    #Выводим результаты распознавания по текущему классу\n",
        "    isRecognized = \"Это НЕПРАВИЛЬНЫЙ ответ!\"\n",
        "    if (recognizedClass == i):\n",
        "      isRecognized = \"Это ПРАВИЛЬНЫЙ ответ!\"\n",
        "    str1 = 'Класс: ' + className[i] + \" \" * (11 - len(className[i])) + str(int(100*evVal[i])) + \"% сеть отнесла к классу \" + className[recognizedClass]\n",
        "    print(str1, \" \" * (55-len(str1)), isRecognized, sep='')\n",
        "  \n",
        "  #Выводим средний процент распознавания по всем классам вместе\n",
        "  print()\n",
        "  sumCount = 0\n",
        "  for i in range(nClasses):\n",
        "    sumCount += len(xTest[i])\n",
        "  print(\"Средний процент распознавания \", int(100*totalSumRec/sumCount), \"%\", sep='')\n",
        "\n",
        "  print()\n",
        "  \n",
        "  return totalSumRec/sumCount\n",
        " \n",
        "\n"
      ],
      "execution_count": null,
      "outputs": []
    },
    {
      "cell_type": "code",
      "metadata": {
        "id": "IJlDdkiDBTR1"
      },
      "source": [
        "   xTest6Classes01, x2 = createTestMultiClasses(testWordIndexes, xLen, step) #Преобразование тестовой выборки"
      ],
      "execution_count": null,
      "outputs": []
    },
    {
      "cell_type": "code",
      "metadata": {
        "id": "wHll1wD1BbxR",
        "colab": {
          "base_uri": "https://localhost:8080/",
          "height": 204
        },
        "outputId": "5cb0db93-4518-4981-b74c-c8f685bfd22c"
      },
      "source": [
        "#Проверяем точность нейронки обученной на bag of words\n",
        "pred = recognizeMultiClass(model02, xTest6Classes01, \"Тексты  + Dense\")"
      ],
      "execution_count": null,
      "outputs": [
        {
          "output_type": "stream",
          "text": [
            "НЕЙРОНКА:  Тексты  + Dense\n",
            "\n",
            "Класс: О. Генри   99% сеть отнесла к классу О. Генри   Это ПРАВИЛЬНЫЙ ответ!\n",
            "Класс: Стругацкие 91% сеть отнесла к классу Стругацкие Это ПРАВИЛЬНЫЙ ответ!\n",
            "Класс: Булгаков   90% сеть отнесла к классу Булгаков   Это ПРАВИЛЬНЫЙ ответ!\n",
            "Класс: Саймак     90% сеть отнесла к классу Саймак     Это ПРАВИЛЬНЫЙ ответ!\n",
            "Класс: Фрай       94% сеть отнесла к классу Фрай       Это ПРАВИЛЬНЫЙ ответ!\n",
            "Класс: Брэдберри  99% сеть отнесла к классу Брэдберри  Это ПРАВИЛЬНЫЙ ответ!\n",
            "\n",
            "Средний процент распознавания 94%\n",
            "\n"
          ],
          "name": "stdout"
        }
      ]
    }
  ]
}